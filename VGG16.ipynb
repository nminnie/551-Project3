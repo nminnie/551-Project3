{
  "nbformat": 4,
  "nbformat_minor": 0,
  "metadata": {
    "colab": {
      "name": "VGG16.ipynb",
      "version": "0.3.2",
      "provenance": [],
      "collapsed_sections": []
    },
    "kernelspec": {
      "name": "python3",
      "display_name": "Python 3"
    },
    "accelerator": "GPU"
  },
  "cells": [
    {
      "metadata": {
        "id": "HVu3hSkcen2X",
        "colab_type": "code",
        "outputId": "bb511ea2-b3bc-4ee7-86f7-0af8cddeae63",
        "colab": {
          "base_uri": "https://localhost:8080/",
          "height": 89
        }
      },
      "cell_type": "code",
      "source": [
        "from torchvision import models\n",
        "from tqdm.autonotebook import tqdm\n",
        "from sklearn.metrics import precision_score, recall_score, f1_score, accuracy_score\n",
        "import inspect\n",
        "import time\n",
        "from torch import nn, optim\n",
        "import torch\n",
        "from torchvision.transforms import Compose, ToTensor,Normalize, Resize,ToPILImage\n",
        "from torch.utils.data import DataLoader\n",
        "import numpy as np # linear algebra\n",
        "import pandas as pd # data processing, \n",
        "import matplotlib.pyplot as plt\n",
        "from google.colab import drive\n",
        "drive.mount('/content/drive')\n",
        "\n",
        "import cv2\n",
        "import os"
      ],
      "execution_count": 1,
      "outputs": [
        {
          "output_type": "stream",
          "text": [
            "Drive already mounted at /content/drive; to attempt to forcibly remount, call drive.mount(\"/content/drive\", force_remount=True).\n"
          ],
          "name": "stdout"
        },
        {
          "output_type": "stream",
          "text": [
            "/usr/local/lib/python3.6/dist-packages/tqdm/autonotebook/__init__.py:14: TqdmExperimentalWarning: Using `tqdm.autonotebook.tqdm` in notebook mode. Use `tqdm.tqdm` instead to force console mode (e.g. in jupyter console)\n",
            "  \" (e.g. in jupyter console)\", TqdmExperimentalWarning)\n"
          ],
          "name": "stderr"
        }
      ]
    },
    {
      "metadata": {
        "id": "7SAKbdcWesyS",
        "colab_type": "code",
        "outputId": "2a27fd3f-ea14-483f-df2c-baf806841fe8",
        "colab": {
          "base_uri": "https://localhost:8080/",
          "height": 35
        }
      },
      "cell_type": "code",
      "source": [
        "cd /content/drive/My\\ Drive/Colab\\ Notebooks/"
      ],
      "execution_count": 2,
      "outputs": [
        {
          "output_type": "stream",
          "text": [
            "/content/drive/My Drive/Colab Notebooks\n"
          ],
          "name": "stdout"
        }
      ]
    },
    {
      "metadata": {
        "id": "OKVXqkqYs7Wb",
        "colab_type": "text"
      },
      "cell_type": "markdown",
      "source": [
        "### Loading the data"
      ]
    },
    {
      "metadata": {
        "id": "676GzKi0szrH",
        "colab_type": "code",
        "colab": {}
      },
      "cell_type": "code",
      "source": [
        "from sklearn.model_selection import train_test_split\n",
        "\n",
        "    \n",
        "images = pd.read_pickle('./dataset/input/train/train_images.pkl')\n",
        "labels = pd.read_csv('./dataset/input/train/train_labels.csv')\n",
        "test_images = pd.read_pickle('./dataset/input/test/test_images.pkl')"
      ],
      "execution_count": 0,
      "outputs": []
    },
    {
      "metadata": {
        "id": "7pDrSLgwvk64",
        "colab_type": "code",
        "outputId": "8f276595-76be-48b3-8069-7cd7d32079ca",
        "colab": {
          "base_uri": "https://localhost:8080/",
          "height": 349
        }
      },
      "cell_type": "code",
      "source": [
        "plt.imshow(images[134])\n",
        "plt.show()"
      ],
      "execution_count": 4,
      "outputs": [
        {
          "output_type": "display_data",
          "data": {
            "image/png": "[encoded data removed]",
            "text/plain": [
              "<Figure size 576x396 with 1 Axes>"
            ]
          },
          "metadata": {
            "tags": []
          }
        }
      ]
    },
    {
      "metadata": {
        "id": "X3Gp1_tgtBhw",
        "colab_type": "text"
      },
      "cell_type": "markdown",
      "source": [
        "Convert images to RGB"
      ]
    },
    {
      "metadata": {
        "id": "1ShgQjvDs4K2",
        "colab_type": "code",
        "colab": {}
      },
      "cell_type": "code",
      "source": [
        "def transform_rgb(img,size):\n",
        "  img_rs = cv2.resize(img, size, interpolation = cv2.INTER_AREA) \n",
        "  img_rgb = np.asarray(np.dstack((img_rs, img_rs, img_rs)), dtype=np.uint8)\n",
        "  return img_rgb"
      ],
      "execution_count": 0,
      "outputs": []
    },
    {
      "metadata": {
        "id": "_E1wII7Dunkt",
        "colab_type": "code",
        "colab": {}
      },
      "cell_type": "code",
      "source": [
        "X = []\n",
        "for i in range(len(images)):\n",
        "  X.append(transform_rgb(images[i],(128,128)))\n",
        "images = np.asarray(X)"
      ],
      "execution_count": 0,
      "outputs": []
    },
    {
      "metadata": {
        "id": "vhd3UWdvutdx",
        "colab_type": "code",
        "outputId": "8148a0c4-6bb5-4fc2-a876-e47cbdc08162",
        "colab": {
          "base_uri": "https://localhost:8080/",
          "height": 351
        }
      },
      "cell_type": "code",
      "source": [
        "plt.imshow(images[134])\n",
        "plt.show()"
      ],
      "execution_count": 7,
      "outputs": [
        {
          "output_type": "display_data",
          "data": {
            "image/png": "[encoded data removed]",
            "text/plain": [
              "<Figure size 576x396 with 1 Axes>"
            ]
          },
          "metadata": {
            "tags": []
          }
        }
      ]
    },
    {
      "metadata": {
        "id": "bQ0EyUlSveMj",
        "colab_type": "code",
        "colab": {}
      },
      "cell_type": "code",
      "source": [
        "train_images,val_images,train_labels, val_labels = train_test_split(images, labels['Category'][:].values, test_size=0.33, random_state=42)"
      ],
      "execution_count": 0,
      "outputs": []
    },
    {
      "metadata": {
        "id": "TOZ6amEjxvDd",
        "colab_type": "text"
      },
      "cell_type": "markdown",
      "source": [
        "### Creating the model - VGG16"
      ]
    },
    {
      "metadata": {
        "id": "JCVTD4BextvG",
        "colab_type": "code",
        "outputId": "c4c4e047-40ea-4dc4-8fa7-552b202f66e6",
        "colab": {
          "base_uri": "https://localhost:8080/",
          "height": 69
        }
      },
      "cell_type": "code",
      "source": [
        "# Load the pretrained model from pytorch\n",
        "vgg16 = models.vgg16_bn(pretrained=True)\n",
        "print(vgg16.classifier[6].out_features) # 1000 \n",
        "\n",
        "\n",
        "# Freeze training for all layers\n",
        "for param in vgg16.features.parameters():\n",
        "    param.require_grad = False\n",
        "\n",
        "# Newly created modules have require_grad=True by default\n",
        "num_features = vgg16.classifier[6].in_features\n",
        "features = list(vgg16.classifier.children())[:-1] # Remove last layer\n",
        "features.extend([nn.Linear(num_features, 10)]) # Add our layer with 4 outputs\n",
        "vgg16.classifier = nn.Sequential(*features) # Replace the model classifier"
      ],
      "execution_count": 9,
      "outputs": [
        {
          "output_type": "stream",
          "text": [
            "Downloading: \"https://download.pytorch.org/models/vgg16_bn-6c64b313.pth\" to /root/.torch/models/vgg16_bn-6c64b313.pth\n",
            "553507836it [00:06, 81162957.76it/s]\n"
          ],
          "name": "stderr"
        },
        {
          "output_type": "stream",
          "text": [
            "1000\n"
          ],
          "name": "stdout"
        }
      ]
    },
    {
      "metadata": {
        "id": "2WfdGcIF5WaW",
        "colab_type": "text"
      },
      "cell_type": "markdown",
      "source": [
        "### Construct data loaders"
      ]
    },
    {
      "metadata": {
        "id": "ekctQMEv4-J0",
        "colab_type": "code",
        "colab": {}
      },
      "cell_type": "code",
      "source": [
        "from torch.utils.data.dataset import Dataset\n",
        "\n",
        "\n",
        "class ModMNISTDataset(Dataset):\n",
        "    def __init__(self,images,labels,transform=None):\n",
        "        self.images = images\n",
        "        self.labels = labels\n",
        "        self.transform = transform\n",
        "        \n",
        "    def __getitem__(self, index):\n",
        "        # stuff\n",
        "        img = self.images[index]\n",
        "        \n",
        "        if self.transform:\n",
        "            img = self.transform(img)\n",
        "        \n",
        "        label = self.labels[index]\n",
        "            \n",
        "        return (img, label)\n",
        "\n",
        "    def __len__(self):\n",
        "        count = self.images.shape[0]\n",
        "        return count "
      ],
      "execution_count": 0,
      "outputs": []
    },
    {
      "metadata": {
        "id": "4aUTHang5ZYv",
        "colab_type": "code",
        "colab": {}
      },
      "cell_type": "code",
      "source": [
        "def get_data_loaders(train_batch_size, val_batch_size):\n",
        "        \n",
        "    data_transform = Compose([ ToPILImage(),\n",
        "                               Resize((224, 224)),\n",
        "                               ToTensor(), \n",
        "                               Normalize(mean=[0.485, 0.456, 0.406], std=[0.229, 0.224, 0.225])])\n",
        "\n",
        "    train_loader = DataLoader(ModMNISTDataset(train_images,train_labels,data_transform),batch_size=train_batch_size, shuffle=True)\n",
        "\n",
        "    val_loader = DataLoader(ModMNISTDataset(val_images,val_labels,data_transform),batch_size=val_batch_size, shuffle=False)\n",
        "    return train_loader, val_loader"
      ],
      "execution_count": 0,
      "outputs": []
    },
    {
      "metadata": {
        "id": "pfq62fBe5kf-",
        "colab_type": "code",
        "colab": {}
      },
      "cell_type": "code",
      "source": [
        "def calculate_metric(metric_fn, true_y, pred_y):\n",
        "    if \"average\" in inspect.getfullargspec(metric_fn).args:\n",
        "        return metric_fn(true_y, pred_y, average=\"macro\")\n",
        "    else:\n",
        "        return metric_fn(true_y, pred_y)\n",
        "    \n",
        "def print_scores(p, r, f1, a, batch_size):\n",
        "    for name, scores in zip((\"precision\", \"recall\", \"F1\", \"accuracy\"), (p, r, f1, a)):\n",
        "        print(f\"\\t{name.rjust(14, ' ')}: {sum(scores)/batch_size:.4f}\")"
      ],
      "execution_count": 0,
      "outputs": []
    },
    {
      "metadata": {
        "id": "mLGXMOMJ4_76",
        "colab_type": "text"
      },
      "cell_type": "markdown",
      "source": [
        "### Train the model"
      ]
    },
    {
      "metadata": {
        "id": "ddfFu1Fe57jr",
        "colab_type": "code",
        "colab": {}
      },
      "cell_type": "code",
      "source": [
        "device = torch.device(\"cuda:0\" if torch.cuda.is_available() else \"cpu\")\n",
        "\n",
        "model_dir = 'models'\n",
        "TRAIN_FROM_SCRATCH = True\n",
        "\n",
        "if TRAIN_FROM_SCRATCH:\n",
        "  model = vgg16.to(device)\n",
        "  epochs = 30\n",
        "  TRAIN_FROM_SCRATCH = False\n",
        "\n",
        "else:\n",
        "  model_dir = 'models'\n",
        "  model = vgg16.to(device)\n",
        "  path = os.path.join(model_dir, 'epoch-vgg-{}.pth'.format(2))\n",
        "  model.load_state_dict(torch.load(path, map_location=device))\n",
        "  model = model.to(device)\n",
        "  epochs = 15\n",
        "  \n",
        "start_epoch = 0 # change this to zero for fresh training\n",
        "\n",
        "start_ts = time.time()\n",
        "train_loader, val_loader = get_data_loaders(32, 32)\n",
        "\n",
        "losses = []\n",
        "loss_function = nn.CrossEntropyLoss()\n",
        "optimizer = optim.Adadelta(model.parameters())\n",
        "\n",
        "batches = len(train_loader)\n",
        "val_batches = len(val_loader)\n",
        "\n",
        "# training loop + eval loop\n",
        "for epoch in range(start_epoch,epochs):\n",
        "    total_loss = 0\n",
        "    progress = tqdm(enumerate(train_loader), desc=\"Loss: \", total=batches)\n",
        "    model.train()\n",
        "    \n",
        "    for i, data in progress:\n",
        "        X, y = data[0].to(device), data[1].to(device)\n",
        "        \n",
        "        model.zero_grad()\n",
        "        outputs = model(X)\n",
        "        loss = loss_function(outputs, y)\n",
        "\n",
        "        loss.backward()\n",
        "        optimizer.step()\n",
        "        current_loss = loss.item()\n",
        "        total_loss += current_loss\n",
        "        progress.set_description(\"Loss: {:.4f}\".format(total_loss/(i+1)))\n",
        "        \n",
        "    torch.cuda.empty_cache()\n",
        "    \n",
        "    val_losses = 0\n",
        "    precision, recall, f1, accuracy = [], [], [], []\n",
        "    \n",
        "    model.eval()\n",
        "    with torch.no_grad():\n",
        "        for i, data in enumerate(val_loader):\n",
        "            X, y = data[0].to(device), data[1].to(device)\n",
        "            outputs = model(X)\n",
        "            val_losses += loss_function(outputs, y)\n",
        "\n",
        "            predicted_classes = torch.max(outputs, 1)[1]\n",
        "            \n",
        "            for acc, metric in zip((precision, recall, f1, accuracy), \n",
        "                                   (precision_score, recall_score, f1_score, accuracy_score)):\n",
        "                acc.append(\n",
        "                    calculate_metric(metric, y.cpu(), predicted_classes.cpu())\n",
        "                )        \n",
        "    \n",
        "    torch.save(model.state_dict(), os.path.join(model_dir, 'epoch-vgg-{}.pth'.format(epoch)))\n",
        "    print(f\"Epoch {epoch+1}/{epochs}, training loss: {total_loss/batches}, validation loss: {val_losses/val_batches}\")\n",
        "    print_scores(precision, recall, f1, accuracy, val_batches)\n",
        "    losses.append(total_loss/batches)\n",
        "print(losses)\n",
        "print(f\"Training time: {time.time()-start_ts}s\")"
      ],
      "execution_count": 0,
      "outputs": []
    },
    {
      "metadata": {
        "id": "7fLsT-gFQRHj",
        "colab_type": "text"
      },
      "cell_type": "markdown",
      "source": [
        "### Evaluation"
      ]
    },
    {
      "metadata": {
        "id": "sgnhyzMOh_-1",
        "colab_type": "code",
        "colab": {}
      },
      "cell_type": "code",
      "source": [
        "model.eval()"
      ],
      "execution_count": 0,
      "outputs": []
    },
    {
      "metadata": {
        "id": "mxGX2s9B5Hd1",
        "colab_type": "text"
      },
      "cell_type": "markdown",
      "source": [
        "### Prediction"
      ]
    },
    {
      "metadata": {
        "id": "oAI7jCHS4rlk",
        "colab_type": "code",
        "colab": {}
      },
      "cell_type": "code",
      "source": [
        "def prediction(data_loader):\n",
        "    model.eval()\n",
        "    test_pred = torch.LongTensor()\n",
        "    \n",
        "    with torch.no_grad():\n",
        "        for i, data in enumerate(data_loader):\n",
        "            data = Variable(data, volatile=True)\n",
        "            if torch.cuda.is_available():\n",
        "                data = data.cuda()\n",
        "\n",
        "            output = model(data)\n",
        "\n",
        "            pred = output.cpu().data.max(1, keepdim=True)[1]\n",
        "            test_pred = torch.cat((test_pred, pred), dim=0)\n",
        "        \n",
        "    return test_pred"
      ],
      "execution_count": 0,
      "outputs": []
    },
    {
      "metadata": {
        "id": "NbBV3M7t5Pj1",
        "colab_type": "code",
        "colab": {}
      },
      "cell_type": "code",
      "source": [
        "test_pred = prediction(test_loader)"
      ],
      "execution_count": 0,
      "outputs": []
    },
    {
      "metadata": {
        "id": "7LAxREZG5R7w",
        "colab_type": "code",
        "colab": {}
      },
      "cell_type": "code",
      "source": [
        "out_df = pd.DataFrame(np.c_[np.arange(0, len(X_test))[:,None], test_pred.numpy()], \n",
        "                      columns=['Id', 'Category'])\n",
        "\n",
        "out_df.to_csv('submission.csv', index=False)"
      ],
      "execution_count": 0,
      "outputs": []
    },
    {
      "metadata": {
        "id": "RrqvjDZ-5YqP",
        "colab_type": "code",
        "colab": {}
      },
      "cell_type": "code",
      "source": [
        "from google.colab import files\n",
        "files.download('submission.csv')"
      ],
      "execution_count": 0,
      "outputs": []
    }
  ]
}